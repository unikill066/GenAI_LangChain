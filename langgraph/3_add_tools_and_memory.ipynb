{
 "cells": [
  {
   "cell_type": "code",
   "execution_count": 2,
   "id": "78233feb",
   "metadata": {},
   "outputs": [],
   "source": [
    "# pip install -U langchain-tavily\n",
    "# https://langchain-ai.github.io/langgraph/tutorials/get-started/2-add-tools/"
   ]
  },
  {
   "cell_type": "code",
   "execution_count": 3,
   "id": "26e3dd33",
   "metadata": {},
   "outputs": [
    {
     "data": {
      "text/plain": [
       "{'query': \"What's a 'node' in LangGraph?\",\n",
       " 'follow_up_questions': None,\n",
       " 'answer': None,\n",
       " 'images': [],\n",
       " 'results': [{'title': 'Nodes and Edges | langchain-ai/langgraph-101 | DeepWiki',\n",
       "   'url': 'https://deepwiki.com/langchain-ai/langgraph-101/2.2-nodes-and-edges',\n",
       "   'content': 'Nodes and Edges | langchain-ai/langgraph-101 | DeepWiki Nodes and Edges Nodes and Edges What are Nodes and Edges? In LangGraph, a graph is composed of nodes connected by edges to form a directed workflow. Nodes are the workhorses of LangGraph - they are Python functions that receive the current graph state as input, perform operations, and return updates to that state. Edges define the flow of execution between nodes in a LangGraph. graph_builder.add_edge(\"retrieve_documents\", \"generate_response\") Conditional edges use a function to determine the next node based on the current state. Building a Graph with Nodes and Edges graph_builder.add_node(\"retrieve_documents\", retrieve_documents) graph_builder.add_edge(\"retrieve_documents\", \"generate_response\") When designing nodes and edges in LangGraph: Nodes and Edges What are Nodes and Edges? Building a Graph with Nodes and Edges',\n",
       "   'score': 0.8559598,\n",
       "   'raw_content': None},\n",
       "  {'title': 'What is LangGraph? - GeeksforGeeks',\n",
       "   'url': 'https://www.geeksforgeeks.org/machine-learning/what-is-langgraph/',\n",
       "   'content': 'LangGraph is a Python library that helps you build applications like chatbots or AI agents by organizing their logic step-by-step using state machine model. This step configures your Gemini API key and then we create a simple function `ask_gemini` that takes user input, sends it to the Gemini model and returns the AI-generated response. Creates a state structure with three fields: `question`, `classification` and `response` which flows through the LangGraph. import matplotlib.pyplot as plt from langgraph.graph import StateGraph\\u200bbuilder = StateGraph(GraphState)builder.add_node(\"classify\", classify)builder.add_node(\"respond\", respond)builder.set_entry_point(\"classify\")builder.add_edge(\"classify\", \"respond\")builder.set_finish_point(\"respond\")app = builder.compile()\\u200bdef visualize_workflow(builder): G = nx.DiGraph()\\u200b for node in builder.nodes: G.add_node(node) for edge in builder.edges: G.add_edge(edge[0], edge[1])\\u200b pos = nx.spring_layout(G) nx.draw(G, pos, with_labels=True, node_size=3000, node_color=\"skyblue\", font_size=12, font_weight=\"bold\", arrows=True)  plt.title(\"Langchain Workflow Visualization\") plt.show()\\u200bvisualize_workflow(builder)',\n",
       "   'score': 0.69249696,\n",
       "   'raw_content': None}],\n",
       " 'response_time': 1.09}"
      ]
     },
     "execution_count": 3,
     "metadata": {},
     "output_type": "execute_result"
    }
   ],
   "source": [
    "from langchain_tavily import TavilySearch\n",
    "\n",
    "tool = TavilySearch(max_results=2)\n",
    "tools = [tool]\n",
    "tool.invoke(\"What's a 'node' in LangGraph?\")"
   ]
  },
  {
   "cell_type": "code",
   "execution_count": 4,
   "id": "2c108fc5",
   "metadata": {},
   "outputs": [],
   "source": [
    "from typing import Annotated\n",
    "from typing_extensions import TypedDict\n",
    "from langchain.chat_models import ChatOpenAI  # from langchain_openai import ChatOpenAI\n",
    "from langgraph.graph import StateGraph, START, END\n",
    "from langgraph.graph.message import add_messages\n",
    "from langchain_tavily import TavilySearch\n",
    "\n",
    "class State(TypedDict):\n",
    "    messages: Annotated[list, add_messages]"
   ]
  },
  {
   "cell_type": "code",
   "execution_count": null,
   "id": "ef5e9ab1",
   "metadata": {},
   "outputs": [
    {
     "name": "stdout",
     "output_type": "stream",
     "text": [
      "Name: langgraph\n",
      "Version: 0.4.8\n",
      "Summary: Building stateful, multi-actor applications with LLMs\n",
      "Home-page: \n",
      "Author: \n",
      "Author-email: \n",
      "License: \n",
      "Location: /Users/discovery/.local/lib/python3.12/site-packages\n",
      "Requires: langchain-core, langgraph-checkpoint, langgraph-prebuilt, langgraph-sdk, pydantic, xxhash\n",
      "Required-by: langgraph-api, langgraph-runtime-inmem\n",
      "Note: you may need to restart the kernel to use updated packages.\n"
     ]
    }
   ],
   "source": [
    "# pip show langgraph"
   ]
  },
  {
   "cell_type": "code",
   "execution_count": 6,
   "id": "842f3c36",
   "metadata": {},
   "outputs": [
    {
     "name": "stdout",
     "output_type": "stream",
     "text": [
      "\n",
      "System Information\n",
      "------------------\n",
      "> OS:  Darwin\n",
      "> OS Version:  Darwin Kernel Version 24.5.0: Tue Apr 22 19:54:26 PDT 2025; root:xnu-11417.121.6~2/RELEASE_ARM64_T8112\n",
      "> Python Version:  3.12.7 | packaged by Anaconda, Inc. | (main, Oct  4 2024, 08:22:19) [Clang 14.0.6 ]\n",
      "\n",
      "Package Information\n",
      "-------------------\n",
      "> langchain_core: 0.3.64\n",
      "> langchain: 0.3.25\n",
      "> langchain_community: 0.3.24\n",
      "> langsmith: 0.3.45\n",
      "> langchain_chroma: 0.2.4\n",
      "> langchain_cohere: 0.3.5\n",
      "> langchain_experimental: 0.3.4\n",
      "> langchain_huggingface: 0.2.0\n",
      "> langchain_ollama: 0.3.1\n",
      "> langchain_openai: 0.2.14\n",
      "> langchain_tavily: 0.2.3\n",
      "> langchain_text_splitters: 0.3.8\n",
      "> langgraph_api: 0.2.37\n",
      "> langgraph_cli: 0.2.10\n",
      "> langgraph_license: Installed. No version info available.\n",
      "> langgraph_runtime: Installed. No version info available.\n",
      "> langgraph_runtime_inmem: 0.2.0\n",
      "> langgraph_sdk: 0.1.70\n",
      "\n",
      "Optional packages not installed\n",
      "-------------------------------\n",
      "> langserve\n",
      "\n",
      "Other Dependencies\n",
      "------------------\n",
      "> aiohttp: 3.11.18\n",
      "> aiohttp<4.0.0,>=3.8.3: Installed. No version info available.\n",
      "> async-timeout<5.0.0,>=4.0.0;: Installed. No version info available.\n",
      "> blockbuster<2.0.0,>=1.5.24: Installed. No version info available.\n",
      "> chromadb>=1.0.9: Installed. No version info available.\n",
      "> click: 8.1.8\n",
      "> cloudpickle>=3.0.0: Installed. No version info available.\n",
      "> cohere: 5.15.0\n",
      "> cryptography<45.0,>=42.0.0: Installed. No version info available.\n",
      "> dataclasses-json<0.7,>=0.5.7: Installed. No version info available.\n",
      "> httpx: 0.27.0\n",
      "> httpx-sse<1.0.0,>=0.4.0: Installed. No version info available.\n",
      "> httpx>=0.25.0: Installed. No version info available.\n",
      "> httpx>=0.25.2: Installed. No version info available.\n",
      "> huggingface-hub>=0.30.2: Installed. No version info available.\n",
      "> jsonpatch<2.0,>=1.33: Installed. No version info available.\n",
      "> jsonschema-rs<0.30,>=0.20.0: Installed. No version info available.\n",
      "> langchain-anthropic;: Installed. No version info available.\n",
      "> langchain-aws;: Installed. No version info available.\n",
      "> langchain-azure-ai;: Installed. No version info available.\n",
      "> langchain-cohere;: Installed. No version info available.\n",
      "> langchain-community;: Installed. No version info available.\n",
      "> langchain-core<1.0.0,>=0.3.51: Installed. No version info available.\n",
      "> langchain-core<1.0.0,>=0.3.58: Installed. No version info available.\n",
      "> langchain-core<1.0.0,>=0.3.59: Installed. No version info available.\n",
      "> langchain-core>=0.2.38: Installed. No version info available.\n",
      "> langchain-core>=0.3.60: Installed. No version info available.\n",
      "> langchain-deepseek;: Installed. No version info available.\n",
      "> langchain-fireworks;: Installed. No version info available.\n",
      "> langchain-google-genai;: Installed. No version info available.\n",
      "> langchain-google-vertexai;: Installed. No version info available.\n",
      "> langchain-groq;: Installed. No version info available.\n",
      "> langchain-huggingface;: Installed. No version info available.\n",
      "> langchain-mistralai;: Installed. No version info available.\n",
      "> langchain-ollama;: Installed. No version info available.\n",
      "> langchain-openai;: Installed. No version info available.\n",
      "> langchain-perplexity;: Installed. No version info available.\n",
      "> langchain-text-splitters<1.0.0,>=0.3.8: Installed. No version info available.\n",
      "> langchain-together;: Installed. No version info available.\n",
      "> langchain-xai;: Installed. No version info available.\n",
      "> langchain<1.0.0,>=0.3.25: Installed. No version info available.\n",
      "> langgraph-checkpoint>=2.0.23: Installed. No version info available.\n",
      "> langgraph-checkpoint>=2.0.25: Installed. No version info available.\n",
      "> langgraph-runtime-inmem<0.3,>=0.2.0: Installed. No version info available.\n",
      "> langgraph-sdk>=0.1.66: Installed. No version info available.\n",
      "> langgraph>=0.2: Installed. No version info available.\n",
      "> langgraph>=0.3.27: Installed. No version info available.\n",
      "> langsmith-pyo3: Installed. No version info available.\n",
      "> langsmith<0.4,>=0.1.125: Installed. No version info available.\n",
      "> langsmith<0.4,>=0.1.17: Installed. No version info available.\n",
      "> langsmith<0.4,>=0.3.45: Installed. No version info available.\n",
      "> langsmith>=0.1.112: Installed. No version info available.\n",
      "> mypy: 1.16.1\n",
      "> numpy>=1.26.0;: Installed. No version info available.\n",
      "> numpy>=1.26.2;: Installed. No version info available.\n",
      "> numpy>=2.1.0;: Installed. No version info available.\n",
      "> ollama<1,>=0.4.4: Installed. No version info available.\n",
      "> openai: 1.86.0\n",
      "> openai-agents: Installed. No version info available.\n",
      "> opentelemetry-api: 1.32.1\n",
      "> opentelemetry-exporter-otlp-proto-http: 1.32.1\n",
      "> opentelemetry-sdk: 1.32.1\n",
      "> orjson: 3.10.16\n",
      "> orjson>=3.10.1: Installed. No version info available.\n",
      "> orjson>=3.9.7: Installed. No version info available.\n",
      "> packaging: 24.1\n",
      "> packaging<25,>=23.2: Installed. No version info available.\n",
      "> pandas: 2.2.3\n",
      "> pydantic: 2.11.5\n",
      "> pydantic-settings<3.0.0,>=2.4.0: Installed. No version info available.\n",
      "> pydantic<3.0.0,>=2.7.4: Installed. No version info available.\n",
      "> pydantic>=2.7.4: Installed. No version info available.\n",
      "> pyjwt>=2.9.0: Installed. No version info available.\n",
      "> pytest: 7.4.4\n",
      "> python-dotenv: 1.1.0\n",
      "> PyYAML>=5.3: Installed. No version info available.\n",
      "> requests: 2.32.3\n",
      "> requests-toolbelt: 1.0.0\n",
      "> requests<3,>=2: Installed. No version info available.\n",
      "> rich: 13.9.4\n",
      "> sentence-transformers>=2.6.0: Installed. No version info available.\n",
      "> SQLAlchemy<3,>=1.4: Installed. No version info available.\n",
      "> sse-starlette<2.2.0,>=2.1.0: Installed. No version info available.\n",
      "> sse-starlette>=2: Installed. No version info available.\n",
      "> starlette>=0.37: Installed. No version info available.\n",
      "> starlette>=0.38.6: Installed. No version info available.\n",
      "> structlog<26,>=24.1.0: Installed. No version info available.\n",
      "> structlog>23: Installed. No version info available.\n",
      "> tabulate: 0.9.0\n",
      "> tenacity!=8.4.0,<10,>=8.1.0: Installed. No version info available.\n",
      "> tenacity!=8.4.0,<10.0.0,>=8.1.0: Installed. No version info available.\n",
      "> tenacity>=8.0.0: Installed. No version info available.\n",
      "> tiktoken: 0.9.0\n",
      "> tokenizers>=0.19.1: Installed. No version info available.\n",
      "> transformers>=4.39.0: Installed. No version info available.\n",
      "> truststore>=0.1: Installed. No version info available.\n",
      "> typing-extensions>=4.7: Installed. No version info available.\n",
      "> uvicorn>=0.26.0: Installed. No version info available.\n",
      "> watchfiles>=0.13: Installed. No version info available.\n",
      "> zstandard: 0.23.0\n"
     ]
    }
   ],
   "source": [
    "!python -m langchain_core.sys_info"
   ]
  },
  {
   "cell_type": "code",
   "execution_count": 7,
   "id": "4924314a",
   "metadata": {},
   "outputs": [],
   "source": [
    "from langchain.chat_models import init_chat_model\n",
    "llm_with_tools = init_chat_model(\"openai:gpt-4.1\").bind_tools([TavilySearch(max_results=2)])"
   ]
  },
  {
   "cell_type": "code",
   "execution_count": 9,
   "id": "991254e5",
   "metadata": {},
   "outputs": [
    {
     "data": {
      "text/plain": [
       "AIMessage(content='My name is ChatGPT. How can I help you today?', additional_kwargs={'refusal': None}, response_metadata={'token_usage': {'completion_tokens': 14, 'prompt_tokens': 771, 'total_tokens': 785, 'completion_tokens_details': {'accepted_prediction_tokens': 0, 'audio_tokens': 0, 'reasoning_tokens': 0, 'rejected_prediction_tokens': 0}, 'prompt_tokens_details': {'audio_tokens': 0, 'cached_tokens': 0}}, 'model_name': 'gpt-4.1-2025-04-14', 'system_fingerprint': 'fp_51e1070cf2', 'finish_reason': 'stop', 'logprobs': None}, id='run--79061179-3cfe-4782-80ad-8b96c49020cb-0', usage_metadata={'input_tokens': 771, 'output_tokens': 14, 'total_tokens': 785, 'input_token_details': {'audio': 0, 'cache_read': 0}, 'output_token_details': {'audio': 0, 'reasoning': 0}})"
      ]
     },
     "execution_count": 9,
     "metadata": {},
     "output_type": "execute_result"
    }
   ],
   "source": [
    "graph_builder = StateGraph(State)\n",
    "search_tool = TavilySearch(max_results=2)\n",
    "tools = [search_tool]\n",
    "\n",
    "# llm = ChatOpenAI(model=\"gpt-4o\", temperature=0.5).bind_tools(tools)\n",
    "\n",
    "# llm_with_tools = llm.bind_tools(tools)\n",
    "\n",
    "llm_with_tools.invoke(\"What is you name\")"
   ]
  },
  {
   "cell_type": "code",
   "execution_count": 10,
   "id": "47f0a186",
   "metadata": {},
   "outputs": [
    {
     "data": {
      "text/plain": [
       "<langgraph.graph.state.StateGraph at 0x10cb433b0>"
      ]
     },
     "execution_count": 10,
     "metadata": {},
     "output_type": "execute_result"
    }
   ],
   "source": [
    "def chatbot(state: State):\n",
    "    return {\"messages\": [llm_with_tools.invoke(state[\"messages\"])]}\n",
    "\n",
    "graph_builder.add_node(\"chatbot\", chatbot)"
   ]
  },
  {
   "cell_type": "code",
   "execution_count": 11,
   "id": "72b58200",
   "metadata": {},
   "outputs": [],
   "source": [
    "import json\n",
    "\n",
    "from langchain_core.messages import ToolMessage\n",
    "\n",
    "\n",
    "class BasicToolNode:\n",
    "    \"\"\"A node that runs the tools requested in the last AIMessage.\"\"\"\n",
    "\n",
    "    def __init__(self, tools: list) -> None:\n",
    "        self.tools_by_name = {tool.name: tool for tool in tools}\n",
    "\n",
    "    def __call__(self, inputs: dict):\n",
    "        if messages := inputs.get(\"messages\", []):\n",
    "            message = messages[-1]\n",
    "        else:\n",
    "            raise ValueError(\"No message found in input\")\n",
    "        outputs = []\n",
    "        for tool_call in message.tool_calls:\n",
    "            tool_result = self.tools_by_name[tool_call[\"name\"]].invoke(\n",
    "                tool_call[\"args\"]\n",
    "            )\n",
    "            outputs.append(\n",
    "                ToolMessage(\n",
    "                    content=json.dumps(tool_result),\n",
    "                    name=tool_call[\"name\"],\n",
    "                    tool_call_id=tool_call[\"id\"],\n",
    "                )\n",
    "            )\n",
    "        return {\"messages\": outputs}\n",
    "\n",
    "\n",
    "tool_node = BasicToolNode(tools=[tool])\n",
    "graph_builder.add_node(\"tools\", tool_node)\n",
    "\n",
    "\n",
    "def route_tools(\n",
    "    state: State,\n",
    "):\n",
    "    \"\"\"\n",
    "    Use in the conditional_edge to route to the ToolNode if the last message\n",
    "    has tool calls. Otherwise, route to the end.\n",
    "    \"\"\"\n",
    "    if isinstance(state, list):\n",
    "        ai_message = state[-1]\n",
    "    elif messages := state.get(\"messages\", []):\n",
    "        ai_message = messages[-1]\n",
    "    else:\n",
    "        raise ValueError(f\"No messages found in input state to tool_edge: {state}\")\n",
    "    if hasattr(ai_message, \"tool_calls\") and len(ai_message.tool_calls) > 0:\n",
    "        return \"tools\"\n",
    "    return END\n",
    "\n",
    "\n",
    "# The `tools_condition` function returns \"tools\" if the chatbot asks to use a tool, and \"END\" if\n",
    "# it is fine directly responding. This conditional routing defines the main agent loop.\n",
    "graph_builder.add_conditional_edges(\n",
    "    \"chatbot\",\n",
    "    route_tools,\n",
    "    # The following dictionary lets you tell the graph to interpret the condition's outputs as a specific node\n",
    "    # It defaults to the identity function, but if you\n",
    "    # want to use a node named something else apart from \"tools\",\n",
    "    # You can update the value of the dictionary to something else\n",
    "    # e.g., \"tools\": \"my_tools\"\n",
    "    {\"tools\": \"tools\", END: END},\n",
    ")\n",
    "# Any time a tool is called, we return to the chatbot to decide the next step\n",
    "graph_builder.add_edge(\"tools\", \"chatbot\")\n",
    "graph_builder.add_edge(START, \"chatbot\")\n",
    "graph = graph_builder.compile()"
   ]
  },
  {
   "cell_type": "code",
   "execution_count": 12,
   "id": "d34081ae",
   "metadata": {},
   "outputs": [
    {
     "data": {
      "image/png": "[encoded data removed]",
      "text/plain": [
       "<IPython.core.display.Image object>"
      ]
     },
     "metadata": {},
     "output_type": "display_data"
    }
   ],
   "source": [
    "from IPython.display import Image, display\n",
    "\n",
    "try:\n",
    "    display(Image(graph.get_graph().draw_mermaid_png()))\n",
    "except Exception:\n",
    "    # This requires some extra dependencies and is optional\n",
    "    pass"
   ]
  },
  {
   "cell_type": "code",
   "execution_count": 13,
   "id": "7be5c714",
   "metadata": {},
   "outputs": [
    {
     "name": "stdout",
     "output_type": "stream",
     "text": [
      "Assistant: \n",
      "Assistant: {\"query\": \"what is Elon Musk doing today\", \"follow_up_questions\": null, \"answer\": null, \"images\": [], \"results\": [{\"url\": \"https://gizmodo.com/elon-musks-xai-is-reportedly-burning-through-1-billion-a-month-2000617458\", \"title\": \"Elon Musk\\u2019s xAI Is Reportedly Burning Through $1 Billion a Month - Gizmodo\", \"score\": 0.64236575, \"published_date\": \"Wed, 18 Jun 2025 18:10:36 GMT\", \"content\": \"By Lucas Ropek Published June 18, 2025 |Comments (15)|\\n\\n\\ud835\\udd4f\\n\\nCopied!\\n\\nImage 3: Billionaire oligarch Elon Musk at the Conservative Political Action Conference (CPAC) in National Harbor, Maryland, on Feb. 20, 2025.\\n\\n \\u00a9 Jason C. Andrew/Bloomberg via Getty Images [...] Image 4: Elon Musk on May 30, 2025 in the Oval Office of the White House in Washington.Tech News Artificial Intelligence Elon Says He\\u2019s Working to \\u2018Fix\\u2019 Grok After AI Disagrees With Him on Right-Wing Violence --------------------------------------------------------------------------------------- Musk thinks his AI is corrupted by the \\\"legacy media.\\\" By Matt Novak Published June 18, 2025 [...] Image 5: Elon Musk holds up an Air Force One stuffed toy as he walks from the presidential helicopter Marine One on the South Lawn of the White House on February 19, 2025 in Washington, DC.Tech News Elon Musk Posts His Drug Test Results for Ketamine and Cocaine -------------------------------------------------------------- The question is whether people will believe him. By Matt Novak Published June 17, 2025\", \"raw_content\": null}, {\"url\": \"https://www.knoxnews.com/story/entertainment/movies/2025/06/18/dolly-parton-is-getting-an-honorary-oscar-for-her-philanthropy/84248624007/\", \"title\": \"Why Dolly Parton is getting an honorary Oscar alongside Tom Cruise - Knoxville News Sentinel\", \"score\": 0.56575525, \"published_date\": \"Wed, 18 Jun 2025 09:14:15 GMT\", \"content\": \"amid accusations On June 17, Elon Musk took to his social media platform X to share the results of a drug test he took on June 16 amid accusations of drug use during his time helping Trump.Knoxville News Sentinel amid accusations\\\")\\n\\nUndo\\n\\n\\n\\nUndo\\n\\n\\n\\nUndo\\n\\n\\n\\nUndo\\n\\n\\n\\nUndo\", \"raw_content\": null}], \"response_time\": 1.13}\n",
      "Assistant: There are no reports of a major public event with Elon Musk today, but here is what is currently happening with him:\n",
      "\n",
      "- Elon Musk has recently been active on his social media platform, X (formerly Twitter), where on June 17 he posted the results of a drug test he took on June 16, responding to accusations of drug use.\n",
      "- His AI company, xAI, is in the news for reportedly burning through $1 billion a month, and Musk has stated he's working to \"fix\" its AI chatbot, Grok, after it disagreed with him on certain topics.\n",
      "\n",
      "There are no reports yet today of public appearances or major announcements by Musk, but he remains very active online and in business news.\n",
      "Assistant: \n",
      "Assistant: {\"query\": \"Mark Zuckerberg latest news Meta\", \"follow_up_questions\": null, \"answer\": null, \"images\": [], \"results\": [{\"url\": \"https://www.axios.com/2025/06/13/meta-scale-ai-deal\", \"title\": \"Sources: Meta finalizes $15 billion deal for Scale AI stake - Axios\", \"score\": 0.74541736, \"published_date\": \"Fri, 13 Jun 2025 00:45:00 GMT\", \"content\": \"Meta CEO Mark Zuckerberg. Photo: Chris Unger/Zuffa LLC via Getty Images\\n\\nMeta CEO Mark Zuckerberg is personally creating a new \\\"superintelligence\\\" team dedicated to building the world's most advanced AI platform, and splashing out nine-figure packages to hire top talent, the New York Timesand Bloomberg reported Tuesday.\\n\\nWhy it matters:Cost doesn't matter in the race for AI dominance.\\n\\nGo deeper (1 min. read) [...] facebook (opens in new window) \\n   twitter (opens in new window) \\n   linkedin (opens in new window) \\n   email (opens in new window) \\n\\nImage 8\\n\\n   Ben Berkowitz\\n\\nJun 10, 2025 - Business\\n\\nMeta launching AI superintelligence lab with nine-figure pay push, reports say\\n-------------------------------------------------------------------------------------------------------------------------------------------------------\\n\\nMeta CEO Mark Zuckerberg.Image 9: Meta CEO Mark Zuckerberg. [...] Meta's big AI deal could invite antitrust scrutiny\\n-------------------------------------------------------------------------------------------------------------------------------\\n\\nMark Zuckerberg at a UFC fight.Image 5: Mark Zuckerberg at a UFC fight.\\n\\nPhoto: Chris Unger/Zuffa LLC\\n\\nMeta reportedly is planning to invest around $14.8 billion for a 49% stake in Scale AI, with the startup's CEO to join a new AI lab that Mark Zuckerberg is personally staffing.\", \"raw_content\": null}, {\"url\": \"https://www.wired.com/story/meta-artificial-intelligence-chatbot-conversations/\", \"title\": \"The Meta AI App Lets You \\u2018Discover\\u2019 People\\u2019s Bizarrely Personal Chats - WIRED\", \"score\": 0.72254705, \"published_date\": \"Thu, 12 Jun 2025 21:46:37 GMT\", \"content\": \"After the initial launch of Meta\\u2019s AI app, critics were quick to point out potential privacy issues, with one headline calling it \\u201ca privacy disaster waiting to happen.\\u201d Despite those concerns, the pace of the development and deployment of such AI shows no signs of slowing, especially at Meta: CEO Mark Zuckerberg recently announced that Meta\\u2019s AI assistant has 1 billion users across the company\\u2019s platforms, and its been reported that Meta is creating a new AI lab led by Scale AI cofounder\", \"raw_content\": null}], \"response_time\": 1.09}\n",
      "Assistant: Mark Zuckerberg, the CEO of Meta, is making major moves in artificial intelligence. Here’s what he’s up to lately:\n",
      "\n",
      "- Zuckerberg is personally creating a new “superintelligence” team at Meta, aiming to build the world’s most advanced AI platform.\n",
      "- Meta has finalized a massive $15 billion deal for a 49% stake in Scale AI, a leading AI startup. Scale AI’s CEO will join Meta’s new AI lab, which Zuckerberg is directly staffing and funding with huge compensation packages to attract top AI talent.\n",
      "- Zuckerberg also announced that Meta’s AI assistant has reached 1 billion users across the company’s platforms.\n",
      "- Meta’s aggressive push into AI is drawing attention, with some concerns about privacy as Meta’s AI app allows users to “discover” other people’s AI conversations.\n",
      "\n",
      "In summary, Zuckerberg is all-in on AI, pouring resources into making Meta a leader in this field and directly overseeing the development of cutting-edge AI technologies.\n",
      "Goodbye!\n"
     ]
    }
   ],
   "source": [
    "def stream_graph_updates(user_input: str):\n",
    "    for event in graph.stream({\"messages\": [{\"role\": \"user\", \"content\": user_input}]}):\n",
    "        for value in event.values():\n",
    "            print(\"Assistant:\", value[\"messages\"][-1].content)\n",
    "\n",
    "while True:\n",
    "    user_input = input(\"User: \")\n",
    "    if user_input.lower() in [\"quit\", \"exit\", \"q\"]:\n",
    "        print(\"Goodbye!\")\n",
    "        break\n",
    "\n",
    "    stream_graph_updates(user_input)"
   ]
  },
  {
   "cell_type": "code",
   "execution_count": 14,
   "id": "22fbaeef",
   "metadata": {},
   "outputs": [],
   "source": [
    "# Memory\n",
    "\n",
    "from langgraph.checkpoint.memory import MemorySaver\n",
    "\n",
    "memory = MemorySaver()"
   ]
  },
  {
   "cell_type": "code",
   "execution_count": 15,
   "id": "75280efe",
   "metadata": {},
   "outputs": [],
   "source": [
    "graph = graph_builder.compile(checkpointer=memory)"
   ]
  },
  {
   "cell_type": "code",
   "execution_count": 16,
   "id": "32291b0e",
   "metadata": {},
   "outputs": [
    {
     "data": {
      "image/png": "[encoded data removed]",
      "text/plain": [
       "<IPython.core.display.Image object>"
      ]
     },
     "metadata": {},
     "output_type": "display_data"
    }
   ],
   "source": [
    "from IPython.display import Image, display\n",
    "\n",
    "try:\n",
    "    display(Image(graph.get_graph().draw_mermaid_png()))\n",
    "except Exception:\n",
    "    # This requires some extra dependencies and is optional\n",
    "    pass"
   ]
  },
  {
   "cell_type": "code",
   "execution_count": 18,
   "id": "16f72267",
   "metadata": {},
   "outputs": [],
   "source": [
    "config = {\"configurable\": {\"thread_id\": \"1\"}}"
   ]
  },
  {
   "cell_type": "code",
   "execution_count": 19,
   "id": "4c58ede1",
   "metadata": {},
   "outputs": [
    {
     "name": "stdout",
     "output_type": "stream",
     "text": [
      "================================\u001b[1m Human Message \u001b[0m=================================\n",
      "\n",
      "Hi there! My name is Will.\n",
      "==================================\u001b[1m Ai Message \u001b[0m==================================\n",
      "\n",
      "Hi Will! Nice to meet you. How can I help you today?\n"
     ]
    }
   ],
   "source": [
    "user_input = \"Hi there! My name is Will.\"\n",
    "\n",
    "# The config is the **second positional argument** to stream() or invoke()!\n",
    "events = graph.stream(\n",
    "    {\"messages\": [{\"role\": \"user\", \"content\": user_input}]},\n",
    "    config,\n",
    "    stream_mode=\"values\",\n",
    ")\n",
    "for event in events:\n",
    "    event[\"messages\"][-1].pretty_print()"
   ]
  },
  {
   "cell_type": "code",
   "execution_count": 20,
   "id": "022d4ea8",
   "metadata": {},
   "outputs": [
    {
     "name": "stdout",
     "output_type": "stream",
     "text": [
      "================================\u001b[1m Human Message \u001b[0m=================================\n",
      "\n",
      "Remember my name?\n",
      "==================================\u001b[1m Ai Message \u001b[0m==================================\n",
      "\n",
      "Yes, your name is Will! If there’s anything else you’d like me to remember or help with, just let me know.\n"
     ]
    }
   ],
   "source": [
    "user_input = \"Remember my name?\"\n",
    "\n",
    "# The config is the **second positional argument** to stream() or invoke()!\n",
    "events = graph.stream(\n",
    "    {\"messages\": [{\"role\": \"user\", \"content\": user_input}]},\n",
    "    config,\n",
    "    stream_mode=\"values\",\n",
    ")\n",
    "for event in events:\n",
    "    event[\"messages\"][-1].pretty_print()"
   ]
  },
  {
   "cell_type": "code",
   "execution_count": 21,
   "id": "b9182993",
   "metadata": {},
   "outputs": [
    {
     "name": "stdout",
     "output_type": "stream",
     "text": [
      "================================\u001b[1m Human Message \u001b[0m=================================\n",
      "\n",
      "Remember my name?\n",
      "==================================\u001b[1m Ai Message \u001b[0m==================================\n",
      "\n",
      "I don’t actually have access to your name yet! If you’d like, you can tell me your name, and I’ll remember it for this conversation. Would you like to share it?\n"
     ]
    }
   ],
   "source": [
    "# The only difference is we change the `thread_id` here to \"2\" instead of \"1\"\n",
    "events = graph.stream(\n",
    "    {\"messages\": [{\"role\": \"user\", \"content\": user_input}]},\n",
    "    {\"configurable\": {\"thread_id\": \"2\"}},\n",
    "    stream_mode=\"values\",\n",
    ")\n",
    "for event in events:\n",
    "    event[\"messages\"][-1].pretty_print()"
   ]
  },
  {
   "cell_type": "code",
   "execution_count": 22,
   "id": "93c0f894",
   "metadata": {},
   "outputs": [
    {
     "data": {
      "text/plain": [
       "StateSnapshot(values={'messages': [HumanMessage(content='Hi there! My name is Will.', additional_kwargs={}, response_metadata={}, id='a626e91a-0112-41fd-94b1-35e58f77ff90'), AIMessage(content='Hi Will! Nice to meet you. How can I help you today?', additional_kwargs={'refusal': None}, response_metadata={'token_usage': {'completion_tokens': 16, 'prompt_tokens': 775, 'total_tokens': 791, 'completion_tokens_details': {'accepted_prediction_tokens': 0, 'audio_tokens': 0, 'reasoning_tokens': 0, 'rejected_prediction_tokens': 0}, 'prompt_tokens_details': {'audio_tokens': 0, 'cached_tokens': 0}}, 'model_name': 'gpt-4.1-2025-04-14', 'system_fingerprint': 'fp_51e1070cf2', 'finish_reason': 'stop', 'logprobs': None}, id='run--2df821f4-5395-45ae-80bf-59df922fd1f7-0', usage_metadata={'input_tokens': 775, 'output_tokens': 16, 'total_tokens': 791, 'input_token_details': {'audio': 0, 'cache_read': 0}, 'output_token_details': {'audio': 0, 'reasoning': 0}}), HumanMessage(content='Remember my name?', additional_kwargs={}, response_metadata={}, id='92592a74-d60c-411b-bdc9-453839b8901d'), AIMessage(content='Yes, your name is Will! If there’s anything else you’d like me to remember or help with, just let me know.', additional_kwargs={'refusal': None}, response_metadata={'token_usage': {'completion_tokens': 28, 'prompt_tokens': 802, 'total_tokens': 830, 'completion_tokens_details': {'accepted_prediction_tokens': 0, 'audio_tokens': 0, 'reasoning_tokens': 0, 'rejected_prediction_tokens': 0}, 'prompt_tokens_details': {'audio_tokens': 0, 'cached_tokens': 0}}, 'model_name': 'gpt-4.1-2025-04-14', 'system_fingerprint': 'fp_51e1070cf2', 'finish_reason': 'stop', 'logprobs': None}, id='run--c2a031ab-4cf4-465b-8b95-46cdc40da2e3-0', usage_metadata={'input_tokens': 802, 'output_tokens': 28, 'total_tokens': 830, 'input_token_details': {'audio': 0, 'cache_read': 0}, 'output_token_details': {'audio': 0, 'reasoning': 0}})]}, next=(), config={'configurable': {'thread_id': '1', 'checkpoint_ns': '', 'checkpoint_id': '1f04cbc5-9334-6344-8004-9be9d1dc3dca'}}, metadata={'source': 'loop', 'writes': {'chatbot': {'messages': [AIMessage(content='Yes, your name is Will! If there’s anything else you’d like me to remember or help with, just let me know.', additional_kwargs={'refusal': None}, response_metadata={'token_usage': {'completion_tokens': 28, 'prompt_tokens': 802, 'total_tokens': 830, 'completion_tokens_details': {'accepted_prediction_tokens': 0, 'audio_tokens': 0, 'reasoning_tokens': 0, 'rejected_prediction_tokens': 0}, 'prompt_tokens_details': {'audio_tokens': 0, 'cached_tokens': 0}}, 'model_name': 'gpt-4.1-2025-04-14', 'system_fingerprint': 'fp_51e1070cf2', 'finish_reason': 'stop', 'logprobs': None}, id='run--c2a031ab-4cf4-465b-8b95-46cdc40da2e3-0', usage_metadata={'input_tokens': 802, 'output_tokens': 28, 'total_tokens': 830, 'input_token_details': {'audio': 0, 'cache_read': 0}, 'output_token_details': {'audio': 0, 'reasoning': 0}})]}}, 'step': 4, 'parents': {}, 'thread_id': '1'}, created_at='2025-06-19T03:20:28.257969+00:00', parent_config={'configurable': {'thread_id': '1', 'checkpoint_ns': '', 'checkpoint_id': '1f04cbc5-8525-6226-8003-365f29b4a89a'}}, tasks=(), interrupts=())"
      ]
     },
     "execution_count": 22,
     "metadata": {},
     "output_type": "execute_result"
    }
   ],
   "source": [
    "snapshot = graph.get_state(config)\n",
    "snapshot"
   ]
  },
  {
   "cell_type": "code",
   "execution_count": null,
   "id": "e05e6625",
   "metadata": {},
   "outputs": [],
   "source": []
  },
  {
   "cell_type": "code",
   "execution_count": null,
   "id": "4ed02b5b",
   "metadata": {},
   "outputs": [],
   "source": []
  }
 ],
 "metadata": {
  "kernelspec": {
   "display_name": "base",
   "language": "python",
   "name": "python3"
  },
  "language_info": {
   "codemirror_mode": {
    "name": "ipython",
    "version": 3
   },
   "file_extension": ".py",
   "mimetype": "text/x-python",
   "name": "python",
   "nbconvert_exporter": "python",
   "pygments_lexer": "ipython3",
   "version": "3.12.7"
  }
 },
 "nbformat": 4,
 "nbformat_minor": 5
}
